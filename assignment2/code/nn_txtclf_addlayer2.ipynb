{
 "cells": [
  {
   "cell_type": "code",
   "execution_count": 1,
   "metadata": {},
   "outputs": [],
   "source": [
    "# %% 1\n",
    "# Package imports\n",
    "import matplotlib.pyplot as plt\n",
    "import numpy as np\n",
    "import sklearn\n",
    "import sklearn.datasets\n",
    "import sklearn.linear_model\n",
    "import matplotlib\n",
    "from sklearn.datasets import fetch_20newsgroups\n",
    "from sklearn.feature_extraction.text import TfidfVectorizer\n",
    "from pprint import pprint"
   ]
  },
  {
   "cell_type": "code",
   "execution_count": 2,
   "metadata": {},
   "outputs": [
    {
     "name": "stdout",
     "output_type": "stream",
     "text": [
      "(4,)\n"
     ]
    }
   ],
   "source": [
    "categories = ['alt.atheism', 'talk.religion.misc', 'comp.graphics', 'sci.space']\n",
    "print(np.shape(categories))\n",
    "\n",
    "newsgroups_train = fetch_20newsgroups(subset='train',  categories=categories)\n",
    "newsgroups_test = fetch_20newsgroups(subset='test',  categories=categories)"
   ]
  },
  {
   "cell_type": "code",
   "execution_count": 3,
   "metadata": {},
   "outputs": [
    {
     "name": "stdout",
     "output_type": "stream",
     "text": [
      "(2034, 20) (2034,)\n",
      "(1353, 20) (1353,)\n"
     ]
    }
   ],
   "source": [
    "num_train = len(newsgroups_train.data)\n",
    "num_test  = len(newsgroups_test.data)\n",
    "\n",
    "vectorizer = TfidfVectorizer(max_features=20)    #文本特征提取\n",
    "\n",
    "data = vectorizer.fit_transform( newsgroups_train.data + newsgroups_test.data )\n",
    "X_train = data[0:num_train, :]\n",
    "X_test = data[num_train:num_train+num_test,:]\n",
    "\n",
    "Y_train = newsgroups_train.target\n",
    "Y_test = newsgroups_test.target\n",
    "\n",
    "print(X_train.shape, Y_train.shape)\n",
    "print(X_test.shape, Y_test.shape)"
   ]
  },
  {
   "cell_type": "markdown",
   "metadata": {},
   "source": [
    "z1 = X * W1 + b1  \n",
    "a1 = ReLU(z1)  \n",
    "z2 = a1 * W2 + b2  \n",
    "a2 = tanh(z2)  \n",
    "z3 = a2 * W3 + b3  \n",
    "a3 = sigmoid(z3)  \n",
    "z4 = a3 * W4 + b4  \n",
    "a4 = $\\hat{y}$ = softmax(z4)  \n",
    "![avater](./loss.png)"
   ]
  },
  {
   "cell_type": "code",
   "execution_count": 4,
   "metadata": {},
   "outputs": [],
   "source": [
    "# Helper function to evaluate the total loss on the dataset\n",
    "def calculate_loss(model, X, y):\n",
    "    W1, b1, W2, b2, W3, b3, W4, b4 = model['W1'], model['b1'], model['W2'], model['b2'], model['W3'], model['b3'], model['W4'], model['b4']\n",
    "    #正向传播，计算预测值\n",
    "    z1 = X.dot(W1) + b1\n",
    "    a1 = np.maximum(0, z1)\n",
    "    z2 = a1.dot(W2) + b2\n",
    "    a2 = np.tanh(z2)\n",
    "    z3 = a2.dot(W3) + b3\n",
    "    a3 = 1./(1 + np.exp(-z3))\n",
    "    z4 = a3.dot(W4) + b4\n",
    "    exp_scores = np.exp(z4)\n",
    "    probs = exp_scores / np.sum(exp_scores, axis=1, keepdims=True)\n",
    "    # 计算损失\n",
    "    corect_logprobs = -np.log(probs[range(num_examples), y])\n",
    "    data_loss = np.sum(corect_logprobs)\n",
    "    #在损失上加上正则项（可选）\n",
    "    data_loss += reg_lambda/2 * (np.sum(np.square(W1)) + np.sum(np.square(W2)) + np.sum(np.square(W3)) + np.sum(np.square(W4)))\n",
    "    return 1./num_examples * data_loss"
   ]
  },
  {
   "cell_type": "code",
   "execution_count": 5,
   "metadata": {},
   "outputs": [],
   "source": [
    "# Helper function to predict an output (0 or 1)\n",
    "def predict(model, X):\n",
    "    W1, b1, W2, b2, W3, b3, W4, b4 = model['W1'], model['b1'], model['W2'], model['b2'], model['W3'], model['b3'], model['W4'], model['b4']\n",
    "    #正向传播，计算预测值\n",
    "    z1 = X.dot(W1) + b1\n",
    "    a1 = np.maximum(0, z1)\n",
    "    z2 = a1.dot(W2) + b2\n",
    "    a2 = np.tanh(z2)\n",
    "    z3 = a2.dot(W3) + b3\n",
    "    a3 = 1./(1 + np.exp(-z3))\n",
    "    z4 = a3.dot(W4) + b4\n",
    "    exp_scores = np.exp(z4)\n",
    "    probs = exp_scores / np.sum(exp_scores, axis=1, keepdims=True)\n",
    "    return np.argmax(probs, axis=1)"
   ]
  },
  {
   "cell_type": "code",
   "execution_count": 6,
   "metadata": {},
   "outputs": [],
   "source": [
    "# This function learns parameters for the neural network and returns the model.\n",
    "# - nn_hdim: Number of nodes in the hidden layer\n",
    "# - num_passes: Number of passes through the training data for gradient descent\n",
    "# - print_loss: If True, print the loss every 1000 iterations\n",
    "def build_model(X, y, nn_hdim, epsilon, reg_lambda, num_passes=20000,  print_loss=False):\n",
    "# 用随机值初始化参数。我们需要学习这些参数\n",
    "    np.random.seed(0)\n",
    "    W1 = np.random.randn(input_dim, nn_hdim[0]) / np.sqrt(input_dim)\n",
    "    b1 = np.zeros((1, nn_hdim[0]))\n",
    "    W2 = np.random.randn(nn_hdim[0],nn_hdim[1]) / np.sqrt(nn_hdim[0])\n",
    "    b2 = np.zeros((1, nn_hdim[1]))\n",
    "    W3 = np.random.randn(nn_hdim[1],nn_hdim[2]) / np.sqrt(nn_hdim[1])\n",
    "    b3 = np.zeros((1, nn_hdim[2]))\n",
    "    W4 = np.random.randn(nn_hdim[2], np.shape(categories)[0]) / np.sqrt(nn_hdim[2])\n",
    "    b4 = np.zeros((1, np.shape(categories)[0]))\n",
    "\n",
    "    # 这是我们最终要返回的数据\n",
    "    model = {}\n",
    "\n",
    "    # 梯度下降\n",
    "    for i in range(0, num_passes):\n",
    "        #print(X)\n",
    "        #正向传播，计算预测值\n",
    "        z1 = X.dot(W1) + b1\n",
    "        a1 = np.maximum(0, z1)\n",
    "        z2 = a1.dot(W2) + b2\n",
    "        a2 = np.tanh(z2)\n",
    "        z3 = a2.dot(W3) + b3\n",
    "        a3 = 1./(1 + np.exp(-z3))\n",
    "        z4 = a3.dot(W4) + b4\n",
    "        exp_scores = np.exp(z4)\n",
    "        probs = exp_scores / np.sum(exp_scores, axis=1, keepdims=True)\n",
    "\n",
    "        # 反向传播\n",
    "        delta4 = probs\n",
    "        delta4[range(num_examples), y] -= 1\n",
    "        dW4 = (a3.T).dot(delta4)\n",
    "        db4 = np.sum(delta4, axis=0, keepdims=True)\n",
    "        delta3 = delta4.dot(W4.T) * a3 * (1 - a3)\n",
    "        dW3 = (a2.T).dot(delta3)\n",
    "        db3 = np.sum(delta3, axis=0, keepdims=True)\n",
    "        delta2 = delta3.dot(W3.T) * (1 - np.power(a2, 2))\n",
    "        dW2 = (a1.T).dot(delta2)\n",
    "        db2 = np.sum(delta2, axis=0)\n",
    "        delta1 = delta2.dot(W2.T)\n",
    "        delta1[z1 <= 0] = 0\n",
    "        dW1 = (X.T).dot(delta1)\n",
    "        db1 = np.sum(delta1, axis=0)\n",
    "        \n",
    "\n",
    "\n",
    "        # 添加正则项 (b1 和 b2 没有正则项)\n",
    "        dW4 += reg_lambda * W4\n",
    "        dW3 += reg_lambda * W3\n",
    "        dW2 += reg_lambda * W2\n",
    "        dW1 += reg_lambda * W1\n",
    "        \n",
    "        #print(dW1)\n",
    "        #print(dW2)\n",
    "        #print(dW3)\n",
    "        #print(dW4)\n",
    "\n",
    "        # 梯度下降更新参数\n",
    "        W1 += -epsilon * dW1\n",
    "        b1 += -epsilon * db1\n",
    "        W2 += -epsilon * dW2\n",
    "        b2 += -epsilon * db2\n",
    "        W3 += -epsilon * dW3\n",
    "        b3 += -epsilon * db3\n",
    "        W4 += -epsilon * dW4\n",
    "        b4 += -epsilon * db4\n",
    "        \n",
    "        \n",
    "        # 为模型分配新的参数\n",
    "        model = { 'W1': W1, 'b1': b1, 'W2': W2, 'b2': b2, 'W3': W3, 'b3': b3, 'W4': W4, 'b4': b4 }\n",
    "        #print(model)\n",
    "        #yp = predict(model, X_test)\n",
    "        #print('Accuracy %f'%(np.mean(yp==Y_test)))\n",
    "\n",
    "        # 选择性地打印损失\n",
    "        # 这种做法很奢侈，因为我们用的是整个数据集，所以我们不想太频繁地这样做\n",
    "        if print_loss and i % 1000 == 0:\n",
    "            print (\"Loss after iteration %i: %f\" %(i, calculate_loss(model,X,y)))\n",
    "\n",
    "\n",
    "    return model"
   ]
  },
  {
   "cell_type": "code",
   "execution_count": 7,
   "metadata": {},
   "outputs": [
    {
     "name": "stdout",
     "output_type": "stream",
     "text": [
      "Loss after iteration 0: 1.376596\n",
      "Loss after iteration 1000: 1.150502\n",
      "Loss after iteration 2000: 1.109068\n",
      "Loss after iteration 3000: 1.093965\n",
      "Loss after iteration 4000: 1.081985\n"
     ]
    }
   ],
   "source": [
    "# Build a model with a 3-dimensional hidden layer\n",
    "\n",
    "num_examples, input_dim = X_train.shape\n",
    "#print(input_dim)\n",
    "epsilon = 0.001\n",
    "reg_lambda = 0.01\n",
    "epochs = 5000\n",
    "nn_hdim = [4,16,8]\n",
    "\n",
    "model = build_model(X_train, Y_train, nn_hdim, epsilon, reg_lambda, epochs, print_loss=True)"
   ]
  },
  {
   "cell_type": "code",
   "execution_count": 8,
   "metadata": {},
   "outputs": [
    {
     "name": "stdout",
     "output_type": "stream",
     "text": [
      "Accuracy 0.450111 = 609 / 1353\n"
     ]
    }
   ],
   "source": [
    "n_correct = 0\n",
    "n_test = X_test.shape[0]\n",
    "for n in range(n_test):\n",
    "    x = X_test[n,:]\n",
    "    yp = predict(model, x)\n",
    "    if yp == Y_test[n]:\n",
    "        n_correct += 1.0\n",
    "\n",
    "print('Accuracy %f = %d / %d'%(n_correct/n_test, int(n_correct), n_test) )"
   ]
  },
  {
   "cell_type": "code",
   "execution_count": null,
   "metadata": {},
   "outputs": [],
   "source": []
  }
 ],
 "metadata": {
  "kernelspec": {
   "display_name": "Python 3",
   "language": "python",
   "name": "python3"
  },
  "language_info": {
   "codemirror_mode": {
    "name": "ipython",
    "version": 3
   },
   "file_extension": ".py",
   "mimetype": "text/x-python",
   "name": "python",
   "nbconvert_exporter": "python",
   "pygments_lexer": "ipython3",
   "version": "3.7.3"
  }
 },
 "nbformat": 4,
 "nbformat_minor": 2
}
