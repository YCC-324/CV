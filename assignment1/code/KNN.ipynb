{
 "cells": [
  {
   "cell_type": "code",
   "execution_count": 1,
   "metadata": {},
   "outputs": [],
   "source": [
    "# Run some setup code for this notebook.\n",
    "import random\n",
    "import numpy as np\n",
    "import matplotlib.pyplot as plt\n",
    "\n",
    "\n",
    "# This is a bit of magic to make matplotlib figures appear inline in the notebook\n",
    "# rather than in a new window.\n",
    "%matplotlib inline\n",
    "plt.rcParams['figure.figsize'] = (10.0, 8.0) # set default size of plots\n",
    "plt.rcParams['image.interpolation'] = 'nearest'\n",
    "plt.rcParams['image.cmap'] = 'gray'\n",
    "\n",
    "# Some more magic so that the notebook will reload external python modules;\n",
    "# see http://stackoverflow.com/questions/1907993/autoreload-of-modules-in-ipython\n",
    "%load_ext autoreload\n",
    "%autoreload 2\n",
    "\n"
   ]
  },
  {
   "cell_type": "code",
   "execution_count": 2,
   "metadata": {},
   "outputs": [],
   "source": [
    "import os\n",
    "import pickle\n",
    "\n",
    "def unpickle(filename):\n",
    "    \"\"\" 载入cifar数据集的一个batch \"\"\"\n",
    "    with open(filename, 'rb') as f:\n",
    "        datadict = pickle.load(f,encoding='latin1')\n",
    "    return datadict\n",
    "\n",
    "\n",
    "def load_CIFAR_batch(filename):\n",
    "        datadict = unpickle(filename)\n",
    "        X = datadict['data']\n",
    "        Y = datadict['labels']\n",
    "        X = X.reshape(10000, 3, 32, 32).transpose(0, 2, 3, 1).astype(\"float\")\n",
    "        Y = np.array(Y)\n",
    "        return X, Y\n",
    "\n",
    "def load_CIFAR10(ROOT):\n",
    "    \"\"\" 载入cifar全部数据 \"\"\"\n",
    "    xs = []\n",
    "    ys = []\n",
    "    for b in range(1, 6):\n",
    "        f = os.path.join(ROOT, 'data_batch_%d' % (b,))\n",
    "        X, Y = load_CIFAR_batch(f)\n",
    "        xs.append(X)\n",
    "        ys.append(Y)\n",
    "    Xtr = np.concatenate(xs)\n",
    "    Ytr = np.concatenate(ys)\n",
    "    del X, Y\n",
    "    Xte, Yte = load_CIFAR_batch(os.path.join(ROOT, 'test_batch'))\n",
    "    return Xtr, Ytr, Xte, Yte"
   ]
  },
  {
   "cell_type": "code",
   "execution_count": 3,
   "metadata": {
    "scrolled": false
   },
   "outputs": [
    {
     "name": "stdout",
     "output_type": "stream",
     "text": [
      "Training data shape:  (50000, 32, 32, 3)\n",
      "Training labels shape:  (50000,)\n",
      "Test data shape:  (10000, 32, 32, 3)\n",
      "Test labels shape:  (10000,)\n"
     ]
    }
   ],
   "source": [
    "cifar10_dir = './data'\n",
    "\n",
    "# Cleaning up variables to prevent loading data multiple times (which may cause memory issue)\n",
    "try:\n",
    "   del X_train, y_train\n",
    "   del X_test, y_test\n",
    "   print('Clear previously loaded data.')\n",
    "except:\n",
    "   pass\n",
    "\n",
    "X_train, y_train, X_test, y_test = load_CIFAR10(cifar10_dir)\n",
    "\n",
    "# As a sanity check, we print out the size of the training and test data.\n",
    "print('Training data shape: ', X_train.shape)\n",
    "print('Training labels shape: ', y_train.shape)\n",
    "print('Test data shape: ', X_test.shape)\n",
    "print('Test labels shape: ', y_test.shape)"
   ]
  },
  {
   "cell_type": "code",
   "execution_count": 4,
   "metadata": {},
   "outputs": [
    {
     "data": {
      "text/plain": [
       "['airplane',\n",
       " 'automobile',\n",
       " 'bird',\n",
       " 'cat',\n",
       " 'deer',\n",
       " 'dog',\n",
       " 'frog',\n",
       " 'horse',\n",
       " 'ship',\n",
       " 'truck']"
      ]
     },
     "execution_count": 4,
     "metadata": {},
     "output_type": "execute_result"
    }
   ],
   "source": [
    "meta = unpickle(cifar10_dir+'/batches.meta');\n",
    "meta\n",
    "classes = meta['label_names'];\n",
    "classes"
   ]
  },
  {
   "cell_type": "code",
   "execution_count": null,
   "metadata": {
    "scrolled": true
   },
   "outputs": [],
   "source": [
    "# Visualize some examples from the dataset.\n",
    "# We show a few examples of training images from each class.\n",
    "num_classes = len(classes)\n",
    "samples_per_class = 7\n",
    "for y, cls in enumerate(classes):\n",
    "    idxs = np.flatnonzero(y_train == y)   #返回非0元素的索引\n",
    "    idxs = np.random.choice(idxs, samples_per_class, replace=False)  #随机取样，不放回的取出samples_per_class个\n",
    "    for i, idx in enumerate(idxs):\n",
    "        plt_idx = i * num_classes + y + 1\n",
    "        plt.subplot(samples_per_class, num_classes, plt_idx)\n",
    "        plt.imshow(X_train[idx].astype('uint8'))\n",
    "        plt.axis('off')\n",
    "        if i == 0:\n",
    "            plt.title(cls)\n",
    "plt.show()"
   ]
  },
  {
   "cell_type": "code",
   "execution_count": null,
   "metadata": {},
   "outputs": [],
   "source": [
    "# Subsample the data for more efficient code execution in this exercise\n",
    "num_training = 50000\n",
    "mask = list(range(num_training))\n",
    "X_train = X_train[mask]\n",
    "y_train = y_train[mask]\n",
    "\n",
    "num_test = 10000\n",
    "mask = list(range(num_test))\n",
    "X_test = X_test[mask]\n",
    "y_test = y_test[mask]\n",
    "\n",
    "print(X_train.shape, X_test.shape)"
   ]
  },
  {
   "cell_type": "code",
   "execution_count": 7,
   "metadata": {},
   "outputs": [
    {
     "data": {
      "text/plain": [
       "'\\n# Reshape the image data into rows\\nX_train = np.reshape(X_train, (X_train.shape[0], -1))\\nX_test = np.reshape(X_test, (X_test.shape[0], -1))\\nprint(X_train.shape, X_test.shape)\\n'"
      ]
     },
     "execution_count": 7,
     "metadata": {},
     "output_type": "execute_result"
    }
   ],
   "source": [
    "'''\n",
    "# Reshape the image data into rows\n",
    "X_train = np.reshape(X_train, (X_train.shape[0], -1))\n",
    "X_test = np.reshape(X_test, (X_test.shape[0], -1))\n",
    "print(X_train.shape, X_test.shape)\n",
    "'''"
   ]
  },
  {
   "cell_type": "code",
   "execution_count": 8,
   "metadata": {},
   "outputs": [],
   "source": [
    "\n",
    "def min_n(distance,n):\n",
    "    result = []\n",
    "    inf = 1e64\n",
    "    for i in range (n):\n",
    "        result.append(np.argmin(distance))\n",
    "        distance[np.argmin(distance)]=inf\n",
    "    result.sort()\n",
    "    return result\n"
   ]
  },
  {
   "cell_type": "code",
   "execution_count": 9,
   "metadata": {},
   "outputs": [],
   "source": [
    "\n",
    "from scipy import stats\n",
    "\n",
    "class KNearestNeighbor(object):\n",
    "    def _init_(self):\n",
    "        pass\n",
    "    def train(self,X,y):\n",
    "        self.Xtr = X\n",
    "        self.ytr = y\n",
    "        \n",
    "    def predict(self,X,k):    #self.Xtr是训练出来的数组\n",
    "        num=X.shape[0]\n",
    "        #print(num)\n",
    "        for i in range(num):\n",
    "            distance=np.sqrt(np.sum(np.square(self.Xtr-X[i,:]),axis=1))\n",
    "            min_nindex = min_n(distance,k)\n",
    "            for j in range (k):\n",
    "                min_nindex[j] = self.ytr[min_nindex[j]]\n",
    "            Y_predict[i] = stats.mode(min_nindex)[0][0]  #求众数\n",
    "            #min_index=np.argmin(distance)   #返回最小的那个数的下标\n",
    "            #print(min_index,self.ytr[min_index])\n",
    "            #print(i)\n",
    "            #Y_predict[i]=self.ytr[min_index]\n",
    "        return Y_predict\n"
   ]
  },
  {
   "cell_type": "code",
   "execution_count": 10,
   "metadata": {},
   "outputs": [
    {
     "data": {
      "text/plain": [
       "\"\\nY_predict=np.zeros(y_test.shape[0]);\\nnew = KNearestNeighbor()\\nnew.train(X_train,y_train)\\nY_predict=new.predict(X_test,15)\\nprint ('accuracy: %f' % (np.mean(Y_predict==y_test)))   #np.mean求平均值\\n\""
      ]
     },
     "execution_count": 10,
     "metadata": {},
     "output_type": "execute_result"
    }
   ],
   "source": [
    "'''\n",
    "Y_predict=np.zeros(y_test.shape[0]);\n",
    "new = KNearestNeighbor()\n",
    "new.train(X_train,y_train)\n",
    "Y_predict=new.predict(X_test,15)\n",
    "print ('accuracy: %f' % (np.mean(Y_predict==y_test)))   #np.mean求平均值\n",
    "'''"
   ]
  },
  {
   "cell_type": "code",
   "execution_count": 11,
   "metadata": {},
   "outputs": [],
   "source": [
    "def rgb2gray(img):\n",
    "    r, g, b = img[:,:,0], img[:,:,1], img[:,:,2]\n",
    "    gray = 0.299 * r + 0.587 * g + 0.114 * b\n",
    "    return gray"
   ]
  },
  {
   "cell_type": "code",
   "execution_count": 12,
   "metadata": {},
   "outputs": [],
   "source": [
    "from skimage.feature import local_binary_pattern\n",
    "radius = 1\n",
    "n_points = radius * 8\n",
    "X_train_gray = np.zeros((num_training,32,32))\n",
    "X_test_gray = np.zeros((num_test,32,32))\n",
    "X_train_lbp = np.zeros((num_training,32,32))\n",
    "X_test_lbp = np.zeros((num_test,32,32))\n",
    "for i in range(num_training):\n",
    "    #print(np.shape(X_train[i]))\n",
    "    X_train_gray[i] = rgb2gray(X_train[i])\n",
    "    #print(np.shape(X_train_gray[i]))\n",
    "    #plt.imshow(X_train_gray[i].astype('uint8'))\n",
    "    #plt.show()\n",
    "    X_train_lbp[i]=local_binary_pattern(X_train_gray[i],n_points,radius)\n",
    "    #print(np.shape(X_train_lbp[i]))\n",
    "for i in range(num_test):\n",
    "    X_test_gray[i] = rgb2gray(X_test[i])\n",
    "    X_test_lbp[i]=local_binary_pattern(X_test_gray[i],n_points,radius)"
   ]
  },
  {
   "cell_type": "code",
   "execution_count": 13,
   "metadata": {},
   "outputs": [
    {
     "name": "stdout",
     "output_type": "stream",
     "text": [
      "(40000, 1024) (10000, 1024)\n"
     ]
    }
   ],
   "source": [
    "# Reshape the image data into rows\n",
    "X_train_lbp = np.reshape(X_train_lbp, (X_train_lbp.shape[0], -1))\n",
    "X_test_lbp = np.reshape(X_test_lbp, (X_test_lbp.shape[0], -1))\n",
    "print(X_train_lbp.shape, X_test_lbp.shape)\n"
   ]
  },
  {
   "cell_type": "code",
   "execution_count": null,
   "metadata": {},
   "outputs": [],
   "source": [
    "Y_predict=np.zeros(y_test.shape[0]);\n",
    "new = KNearestNeighbor()\n",
    "new.train(X_train_lbp,y_train)\n",
    "Y_predict=new.predict(X_test_lbp,15)\n",
    "print ('accuracy: %f' % (np.mean(Y_predict==y_test)))   #np.mean求平均值"
   ]
  },
  {
   "cell_type": "code",
   "execution_count": null,
   "metadata": {},
   "outputs": [],
   "source": []
  }
 ],
 "metadata": {
  "kernelspec": {
   "display_name": "Python 3",
   "language": "python",
   "name": "python3"
  },
  "language_info": {
   "codemirror_mode": {
    "name": "ipython",
    "version": 3
   },
   "file_extension": ".py",
   "mimetype": "text/x-python",
   "name": "python",
   "nbconvert_exporter": "python",
   "pygments_lexer": "ipython3",
   "version": "3.7.1"
  }
 },
 "nbformat": 4,
 "nbformat_minor": 2
}
